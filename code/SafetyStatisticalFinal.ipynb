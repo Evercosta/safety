{
 "cells": [
  {
   "cell_type": "code",
   "execution_count": 1,
   "metadata": {},
   "outputs": [],
   "source": [
    "import numpy as np\n",
    "import pandas as pd\n",
    "pd.options.display.max_columns = None\n",
    "\n",
    "\n",
    "from sklearn.preprocessing import LabelEncoder, MinMaxScaler\n",
    "from sklearn.preprocessing import scale\n",
    "\n",
    "from sklearn.model_selection import train_test_split, cross_val_score, KFold, StratifiedKFold, GridSearchCV\n",
    "from sklearn.ensemble import RandomForestClassifier\n",
    "from sklearn.svm import SVC\n",
    "import xgboost as xgb\n",
    "from sklearn.tree import DecisionTreeClassifier\n",
    "from mlxtend.feature_selection import SequentialFeatureSelector as SFS\n",
    "\n",
    "\n",
    "from imblearn.over_sampling import SMOTE\n",
    "from sklearn.feature_selection import SelectFromModel\n",
    "\n",
    "\n",
    "from sklearn.metrics import confusion_matrix, classification_report, roc_curve, roc_auc_score, \\\n",
    "precision_score, recall_score, f1_score, accuracy_score, matthews_corrcoef\n",
    "\n",
    "import seaborn as sns\n",
    "import matplotlib.pyplot as plt\n",
    "%matplotlib inline\n",
    "\n",
    "import warnings\n",
    "warnings.filterwarnings(\"ignore\")"
   ]
  },
  {
   "cell_type": "markdown",
   "metadata": {},
   "source": [
    "## Helper Methods Section"
   ]
  },
  {
   "cell_type": "code",
   "execution_count": 2,
   "metadata": {},
   "outputs": [],
   "source": [
    "def binary_converter(param):\n",
    "    if param > 0:\n",
    "        return 1\n",
    "    else:\n",
    "        return 0"
   ]
  },
  {
   "cell_type": "code",
   "execution_count": 3,
   "metadata": {},
   "outputs": [],
   "source": [
    "def replace_negative_value(val):\n",
    "    if(val < 0):\n",
    "        return 0\n",
    "    else:\n",
    "        return val"
   ]
  },
  {
   "cell_type": "code",
   "execution_count": 4,
   "metadata": {},
   "outputs": [],
   "source": [
    "def find_negative_columns_values(df):\n",
    "    negative_columns = []\n",
    "\n",
    "    for i, col in enumerate(df.columns):\n",
    "        if ((df[col].dtypes != 'O') and df[col].min() < 0):\n",
    "            negative_columns.append(col)\n",
    "            \n",
    "    return negative_columns"
   ]
  },
  {
   "cell_type": "code",
   "execution_count": 5,
   "metadata": {},
   "outputs": [],
   "source": [
    "def replace_negative_values(val):\n",
    "    if(val < 0):\n",
    "        return 0\n",
    "    else:\n",
    "        return val"
   ]
  },
  {
   "cell_type": "code",
   "execution_count": 6,
   "metadata": {},
   "outputs": [],
   "source": [
    "def show_roc_curve(y_true, y_pred):\n",
    "    fpr, tpr, thresholds = roc_curve(y_true, y_pred)\n",
    "    plt.title('ROC Curve')\n",
    "    plt.plot([0,1], [0,1], linestyle='--')\n",
    "    plt.plot(fpr, tpr, marker='.')\n",
    "\n",
    "    plt.show()\n",
    "\n",
    "    auc_score = roc_auc_score(y_true, y_pred)\n",
    "\n",
    "    mcc = matthews_corrcoef(y_true, y_pred.round())\n",
    "\n",
    "    print('AUC: %.2f' %auc_score)\n",
    "    print('MCC: %.2f' %mcc)"
   ]
  },
  {
   "cell_type": "code",
   "execution_count": null,
   "metadata": {},
   "outputs": [],
   "source": []
  },
  {
   "cell_type": "code",
   "execution_count": 7,
   "metadata": {},
   "outputs": [],
   "source": [
    "def show_confusion_matrix(y_test, y_pred, figsize=(4,4)):\n",
    "    \n",
    "    cm = confusion_matrix(y_test, y_pred)\n",
    "    \n",
    "    plt.figure(figsize=figsize)\n",
    "    sns.heatmap(cm, cmap='RdYlBu', fmt='.0f', annot=True)\n",
    "    plt.show()"
   ]
  },
  {
   "cell_type": "code",
   "execution_count": 8,
   "metadata": {},
   "outputs": [],
   "source": [
    "def plot_2d_space(X, y, label='Classes'):   \n",
    "    colors = ['#1F77B4', '#FF7F0E']\n",
    "    markers = ['o', 's']\n",
    "    for l, c, m in zip(np.unique(y), colors, markers):\n",
    "        plt.scatter(\n",
    "            X[y==l, 0],\n",
    "            X[y==l, 1],\n",
    "            c=c, label=l, marker=m\n",
    "        )\n",
    "    plt.title(label)\n",
    "    plt.legend(loc='upper right')\n",
    "    plt.show()"
   ]
  },
  {
   "cell_type": "markdown",
   "metadata": {},
   "source": [
    "## Loading the dataset"
   ]
  },
  {
   "cell_type": "code",
   "execution_count": 9,
   "metadata": {},
   "outputs": [],
   "source": [
    "dataset = pd.read_csv('../modelo_unidade_diario_comentado.csv', encoding='ISO-8859-1', sep=';')"
   ]
  },
  {
   "cell_type": "code",
   "execution_count": 10,
   "metadata": {},
   "outputs": [],
   "source": [
    "dataset['QTD_TRI_FAI'] = dataset['QTD_TRI'] + dataset['QTD_FAI']"
   ]
  },
  {
   "cell_type": "code",
   "execution_count": 11,
   "metadata": {},
   "outputs": [],
   "source": [
    "dataset['HOUVE_TRI_FAI'] = dataset['QTD_TRI_FAI'].apply(binary_converter)"
   ]
  },
  {
   "cell_type": "code",
   "execution_count": 12,
   "metadata": {},
   "outputs": [],
   "source": [
    "dataset.drop(['QTD_TRI', 'QTD_FAI', 'QTD_TRI_FAI'], axis=1, inplace=True)"
   ]
  },
  {
   "cell_type": "code",
   "execution_count": 13,
   "metadata": {},
   "outputs": [
    {
     "data": {
      "text/plain": [
       "135"
      ]
     },
     "execution_count": 13,
     "metadata": {},
     "output_type": "execute_result"
    }
   ],
   "source": [
    "len(dataset.columns)"
   ]
  },
  {
   "cell_type": "markdown",
   "metadata": {},
   "source": [
    "### Removing Quiz Features"
   ]
  },
  {
   "cell_type": "code",
   "execution_count": 14,
   "metadata": {},
   "outputs": [],
   "source": [
    "quiz_features = [var for var in dataset.iloc[:,55:134] if 'Q' in var and len(var) < 4]"
   ]
  },
  {
   "cell_type": "code",
   "execution_count": 15,
   "metadata": {},
   "outputs": [
    {
     "name": "stdout",
     "output_type": "stream",
     "text": [
      "['Q1', 'Q2', 'Q3', 'Q4', 'Q5', 'Q6', 'Q7', 'Q8', 'Q9', 'Q10', 'Q11', 'Q12', 'Q13', 'Q14', 'Q15', 'Q16', 'Q17', 'Q18', 'Q19', 'Q20', 'Q21', 'Q22', 'Q23', 'Q24', 'Q25', 'Q26', 'Q27', 'Q28', 'Q29', 'Q30', 'Q31', 'Q32', 'Q33', 'Q34', 'Q35', 'Q36', 'Q37', 'Q38', 'Q39', 'Q40', 'Q41', 'Q42', 'Q43', 'Q44', 'Q45', 'Q46', 'Q47', 'Q48', 'Q49', 'Q50', 'Q51', 'Q52', 'Q53', 'Q54', 'Q55', 'Q56', 'Q57', 'Q58', 'Q59', 'Q60', 'Q61', 'Q62', 'Q63', 'Q64', 'Q65', 'Q66', 'Q67', 'Q68', 'Q69', 'Q70', 'Q71', 'Q72', 'Q73', 'Q74']\n"
     ]
    }
   ],
   "source": [
    "print(list(quiz_features))"
   ]
  },
  {
   "cell_type": "code",
   "execution_count": 16,
   "metadata": {},
   "outputs": [],
   "source": [
    "dataset.drop(labels=quiz_features, axis=1, inplace=True)"
   ]
  },
  {
   "cell_type": "code",
   "execution_count": 17,
   "metadata": {},
   "outputs": [
    {
     "data": {
      "text/plain": [
       "61"
      ]
     },
     "execution_count": 17,
     "metadata": {},
     "output_type": "execute_result"
    }
   ],
   "source": [
    "len(dataset.columns)"
   ]
  },
  {
   "cell_type": "markdown",
   "metadata": {},
   "source": [
    "### Removing QTD_TRI_FAI\n",
    "\n",
    "At some point this feature is highly correlated to the response variable that's why we should talk to ambev's team to undestand it better"
   ]
  },
  {
   "cell_type": "code",
   "execution_count": 18,
   "metadata": {},
   "outputs": [],
   "source": [
    "dataset.drop(['QTD_FAI_15_dias_antes'], axis=1, inplace=True)"
   ]
  },
  {
   "cell_type": "code",
   "execution_count": null,
   "metadata": {},
   "outputs": [],
   "source": []
  },
  {
   "cell_type": "markdown",
   "metadata": {},
   "source": [
    "# Feature engineering"
   ]
  },
  {
   "cell_type": "markdown",
   "metadata": {},
   "source": [
    "### Categorical features"
   ]
  },
  {
   "cell_type": "code",
   "execution_count": 19,
   "metadata": {},
   "outputs": [
    {
     "name": "stdout",
     "output_type": "stream",
     "text": [
      "Number of categorical variables:  4\n"
     ]
    }
   ],
   "source": [
    "categorical_vars = [var for var in dataset.columns if dataset[var].dtypes=='O']\n",
    "\n",
    "print('Number of categorical variables: ', len(categorical_vars))"
   ]
  },
  {
   "cell_type": "markdown",
   "metadata": {},
   "source": [
    "### Number of each different categorical category"
   ]
  },
  {
   "cell_type": "code",
   "execution_count": 20,
   "metadata": {},
   "outputs": [
    {
     "name": "stdout",
     "output_type": "stream",
     "text": [
      "Data ['01/01/2015' '02/01/2015' '03/01/2015' ... '09/11/2018' '10/11/2018'\n",
      " '11/11/2018']  categories\n",
      "\n",
      "Unidade ['Arosuco Aromas' 'Arosuco Rolhas' 'F. A. Claras' 'F. Agudos' 'F. Aquiraz'\n",
      " 'F. Camacari' 'F. Cebrasa' 'F. Contagem' 'F. Cuiaba' 'F. Curitibana'\n",
      " 'F. Fonte Mata' 'F. Guarulhos' 'F. JACAREI' 'F. Jaguariuna' 'F. Jundiai'\n",
      " 'F. Levedura' 'F. M.Navegantes' 'F. Malt P.Fundo' 'F. Manaus'\n",
      " 'F. MARANHAO' 'F. Maues' 'F. Minas' 'F. Nova Minas' 'F. Pernambuco'\n",
      " 'F. Rio Janeiro' 'F. Sapucaia' 'F. Sta.Catarina' 'F. Teresina'\n",
      " 'F. Uberlandia' 'F. Vidro RJ' 'F.Ag.Claras Sul' 'F.Ponta Grossa' 'PIRAI']  categories\n",
      "\n",
      "Cidade ['MANAUS' 'ESTANCIA' 'AGUDOS' 'AQUIRAZ' 'CAMACARI' 'ANAPOLIS' 'CONTAGEM'\n",
      " 'CUIABA' 'ALMIRANTE TAMANDARE' 'JOAO PESSOA' 'GUARULHOS' 'JACAREI'\n",
      " 'JAGUARIUNA' 'JUNDIAI' 'ITAPISSUMA' 'PORTO ALEGRE' 'PASSO FUNDO'\n",
      " 'SAO LUIS' 'MAUES' 'JUATUBA' 'SETE LAGOAS' 'RIO DE JANEIRO'\n",
      " 'SAPUCAIA DO SUL' 'LAGES' 'TERESINA' 'UBERLANDIA' 'VIAMAO' 'PONTA GROSSA'\n",
      " 'PIRAI']  categories\n",
      "\n",
      "Cidade_Clima ['Parintins' 'Estancia' 'Agudos' 'Aracaty' 'Camacary' 'Annapolis'\n",
      " 'Contagem' 'Cuyaba' 'Corityba' 'Campina Grande' 'Susano' 'Jacarehy'\n",
      " 'Jaguary' 'Jundiahy' 'Olinda' 'Gravatahy' 'Passo Fundo' 'Maranhao'\n",
      " 'Juatuba' 'Sete Lagoas' 'Nova Iguassu' 'Lajes' 'Terezina' 'Uberlandia'\n",
      " 'Ponta Grossa' 'Pirahy']  categories\n",
      "\n"
     ]
    }
   ],
   "source": [
    "for var in categorical_vars:\n",
    "    print(var, dataset[var].unique(), ' categories')\n",
    "    print()"
   ]
  },
  {
   "cell_type": "markdown",
   "metadata": {},
   "source": [
    "Missing values"
   ]
  },
  {
   "cell_type": "code",
   "execution_count": 21,
   "metadata": {},
   "outputs": [
    {
     "name": "stdout",
     "output_type": "stream",
     "text": [
      "AVGTEMP_C 0.279 % missing values\n",
      "MAXTEMP_C 0.279 % missing values\n",
      "MINTEMP_C 0.279 % missing values\n",
      "TOTALPRECIP_MM 0.279 % missing values\n"
     ]
    }
   ],
   "source": [
    "#Seekin' for missing values\n",
    "vars_with_na = [var for var in dataset.columns if dataset[var].isnull().sum() > 1]\n",
    "\n",
    "for var in vars_with_na:\n",
    "    print(var, np.round(dataset[var].isnull().mean(), 3), '% missing values')"
   ]
  },
  {
   "cell_type": "code",
   "execution_count": 22,
   "metadata": {},
   "outputs": [],
   "source": [
    "#'Data', 'Ano', 'Cidade', 'Cidade_Clima'\n",
    "labelEncoder = LabelEncoder()\n",
    "dataset['Data'] = labelEncoder.fit_transform(dataset['Data'])\n",
    "dataset['Ano'] = labelEncoder.fit_transform(dataset['Ano'])\n",
    "dataset['Unidade'] = labelEncoder.fit_transform(dataset['Unidade'])\n",
    "dataset['Cidade'] = labelEncoder.fit_transform(dataset['Cidade'])\n",
    "dataset['Cidade_Clima'] = labelEncoder.fit_transform(dataset['Cidade_Clima']) "
   ]
  },
  {
   "cell_type": "code",
   "execution_count": 23,
   "metadata": {},
   "outputs": [],
   "source": [
    "dfTempCidade = dataset.groupby('Cidade')[['MINTEMP_C','MAXTEMP_C', 'AVGTEMP_C']].mean().reset_index()\n",
    "\n",
    "for cidade in range(len(dfTempCidade.index)):\n",
    "    rowCidade = dfTempCidade[dfTempCidade.Cidade == cidade]\n",
    "    replaceValues = {'MINTEMP_C': rowCidade.MINTEMP_C.values[0],\n",
    "                     'MAXTEMP_C': rowCidade.MAXTEMP_C.values[0],\n",
    "                     'AVGTEMP_C': rowCidade.AVGTEMP_C.values[0]}\n",
    "\n",
    "    dataset.loc[dataset.Cidade == cidade] = dataset.loc[dataset.Cidade == cidade].fillna(replaceValues)"
   ]
  },
  {
   "cell_type": "code",
   "execution_count": 24,
   "metadata": {},
   "outputs": [],
   "source": [
    "dataset['TOTALPRECIP_MM'].fillna(0, inplace=True)"
   ]
  },
  {
   "cell_type": "markdown",
   "metadata": {},
   "source": [
    "### Features with negative values"
   ]
  },
  {
   "cell_type": "code",
   "execution_count": 25,
   "metadata": {},
   "outputs": [],
   "source": [
    "negative_columns = find_negative_columns_values(dataset)"
   ]
  },
  {
   "cell_type": "code",
   "execution_count": 26,
   "metadata": {},
   "outputs": [
    {
     "name": "stdout",
     "output_type": "stream",
     "text": [
      "['Parada_Automacao', 'Parada_Eletrica', 'Parada_HSMO', 'Parada_Instrumentacao', 'Parada_Mecanica', 'Parada_Operacional', 'Parada_Programada', 'Parada_Qualidade', 'Parada_Suprimentos', 'total_paradas', 'MINTEMP_C']\n"
     ]
    }
   ],
   "source": [
    "print(list(negative_columns))"
   ]
  },
  {
   "cell_type": "markdown",
   "metadata": {},
   "source": [
    "### As temperatures can have negative values we simply ignore MINTEMP_C column"
   ]
  },
  {
   "cell_type": "code",
   "execution_count": 27,
   "metadata": {},
   "outputs": [],
   "source": [
    "negative_columns.remove('MINTEMP_C')"
   ]
  },
  {
   "cell_type": "code",
   "execution_count": 28,
   "metadata": {},
   "outputs": [
    {
     "name": "stdout",
     "output_type": "stream",
     "text": [
      "['Parada_Automacao', 'Parada_Eletrica', 'Parada_HSMO', 'Parada_Instrumentacao', 'Parada_Mecanica', 'Parada_Operacional', 'Parada_Programada', 'Parada_Qualidade', 'Parada_Suprimentos', 'total_paradas']\n"
     ]
    }
   ],
   "source": [
    "print(list(negative_columns))"
   ]
  },
  {
   "cell_type": "code",
   "execution_count": 29,
   "metadata": {},
   "outputs": [],
   "source": [
    "for col in negative_columns:\n",
    "    dataset[col] = dataset[col].apply(lambda x: replace_negative_values(x))"
   ]
  },
  {
   "cell_type": "code",
   "execution_count": null,
   "metadata": {},
   "outputs": [],
   "source": []
  },
  {
   "cell_type": "markdown",
   "metadata": {},
   "source": [
    "# Feature Scaling"
   ]
  },
  {
   "cell_type": "code",
   "execution_count": 30,
   "metadata": {},
   "outputs": [],
   "source": [
    "scaler = MinMaxScaler() \n",
    "df_columns = dataset.columns\n",
    "\n",
    "scaler.fit(dataset) \n",
    "\n",
    "df_columns = dataset.columns\n",
    "\n",
    "df_scaled = pd.DataFrame(scaler.transform(dataset), columns=df_columns)\n",
    "\n",
    "dataset = df_scaled.copy()"
   ]
  },
  {
   "cell_type": "code",
   "execution_count": 31,
   "metadata": {},
   "outputs": [
    {
     "data": {
      "text/html": [
       "<div>\n",
       "<style scoped>\n",
       "    .dataframe tbody tr th:only-of-type {\n",
       "        vertical-align: middle;\n",
       "    }\n",
       "\n",
       "    .dataframe tbody tr th {\n",
       "        vertical-align: top;\n",
       "    }\n",
       "\n",
       "    .dataframe thead th {\n",
       "        text-align: right;\n",
       "    }\n",
       "</style>\n",
       "<table border=\"1\" class=\"dataframe\">\n",
       "  <thead>\n",
       "    <tr style=\"text-align: right;\">\n",
       "      <th></th>\n",
       "      <th>Data</th>\n",
       "      <th>Ano</th>\n",
       "      <th>Mes</th>\n",
       "      <th>Sem</th>\n",
       "      <th>Unidade</th>\n",
       "      <th>ID_UNIDADE</th>\n",
       "      <th>QLP</th>\n",
       "      <th>Altura</th>\n",
       "      <th>Atencao_Postural</th>\n",
       "      <th>Celular</th>\n",
       "      <th>Eletricidade</th>\n",
       "      <th>EPI</th>\n",
       "      <th>Equipamento_de_Elevacao</th>\n",
       "      <th>Espaco_Confinado</th>\n",
       "      <th>LOTO</th>\n",
       "      <th>Manuseio_de_Vidro</th>\n",
       "      <th>Piso_Molhado</th>\n",
       "      <th>PT</th>\n",
       "      <th>Quimicos</th>\n",
       "      <th>SAM</th>\n",
       "      <th>Transporte</th>\n",
       "      <th>Indefinido</th>\n",
       "      <th>Atos_inseguros_no_dia</th>\n",
       "      <th>Atos_inseguros_15_dias_antes</th>\n",
       "      <th>Atos_inseguros_30_dias_antes</th>\n",
       "      <th>Atos_inseguros_45_dias_antes</th>\n",
       "      <th>incidentes_no_dia</th>\n",
       "      <th>incidentes_em_15_dias</th>\n",
       "      <th>incidentes_em_30_dias</th>\n",
       "      <th>incidentes_em_45_dias</th>\n",
       "      <th>abordagens_positivas</th>\n",
       "      <th>abordagens_positivas_15_dias_antes</th>\n",
       "      <th>abordagens_positivas_30_dias_antes</th>\n",
       "      <th>abordagens_positivas_45_dias_antes</th>\n",
       "      <th>Turnover</th>\n",
       "      <th>Horas_Excedentes</th>\n",
       "      <th>Interjornadas</th>\n",
       "      <th>Cidade</th>\n",
       "      <th>Cidade_Clima</th>\n",
       "      <th>Volume_prod</th>\n",
       "      <th>Parada_Automacao</th>\n",
       "      <th>Parada_Eletrica</th>\n",
       "      <th>Parada_HSMO</th>\n",
       "      <th>Parada_Instrumentacao</th>\n",
       "      <th>Parada_Logistica</th>\n",
       "      <th>Parada_Mecanica</th>\n",
       "      <th>Parada_Operacional</th>\n",
       "      <th>Parada_Processo</th>\n",
       "      <th>Parada_Programada</th>\n",
       "      <th>Parada_Qualidade</th>\n",
       "      <th>Parada_Suprimentos</th>\n",
       "      <th>Parada_Utilidades</th>\n",
       "      <th>total_paradas</th>\n",
       "      <th>QTD_FAI_30_dias_antes</th>\n",
       "      <th>QTD_FAI_45_dias_antes</th>\n",
       "      <th>AVGTEMP_C</th>\n",
       "      <th>MAXTEMP_C</th>\n",
       "      <th>MINTEMP_C</th>\n",
       "      <th>TOTALPRECIP_MM</th>\n",
       "      <th>HOUVE_TRI_FAI</th>\n",
       "    </tr>\n",
       "  </thead>\n",
       "  <tbody>\n",
       "    <tr>\n",
       "      <th>0</th>\n",
       "      <td>0.000000</td>\n",
       "      <td>0.0</td>\n",
       "      <td>0.0</td>\n",
       "      <td>0.0</td>\n",
       "      <td>0.0</td>\n",
       "      <td>0.111111</td>\n",
       "      <td>0.022772</td>\n",
       "      <td>0.0</td>\n",
       "      <td>0.0</td>\n",
       "      <td>0.0</td>\n",
       "      <td>0.0</td>\n",
       "      <td>0.0</td>\n",
       "      <td>0.0</td>\n",
       "      <td>0.0</td>\n",
       "      <td>0.0</td>\n",
       "      <td>0.0</td>\n",
       "      <td>0.0</td>\n",
       "      <td>0.0</td>\n",
       "      <td>0.0</td>\n",
       "      <td>0.0</td>\n",
       "      <td>0.0</td>\n",
       "      <td>0.0</td>\n",
       "      <td>0.0</td>\n",
       "      <td>0.0</td>\n",
       "      <td>0.0</td>\n",
       "      <td>0.0</td>\n",
       "      <td>0.0</td>\n",
       "      <td>0.0</td>\n",
       "      <td>0.0</td>\n",
       "      <td>0.0</td>\n",
       "      <td>0.0</td>\n",
       "      <td>0.0</td>\n",
       "      <td>0.0</td>\n",
       "      <td>0.0</td>\n",
       "      <td>0.0</td>\n",
       "      <td>0.000000</td>\n",
       "      <td>0.0</td>\n",
       "      <td>0.571429</td>\n",
       "      <td>0.72</td>\n",
       "      <td>0.0</td>\n",
       "      <td>0.0</td>\n",
       "      <td>0.0</td>\n",
       "      <td>0.0</td>\n",
       "      <td>0.0</td>\n",
       "      <td>0.0</td>\n",
       "      <td>0.0</td>\n",
       "      <td>0.0</td>\n",
       "      <td>0.0</td>\n",
       "      <td>0.0</td>\n",
       "      <td>0.0</td>\n",
       "      <td>0.0</td>\n",
       "      <td>0.0</td>\n",
       "      <td>0.0</td>\n",
       "      <td>0.0</td>\n",
       "      <td>0.0</td>\n",
       "      <td>0.845570</td>\n",
       "      <td>0.770701</td>\n",
       "      <td>0.833753</td>\n",
       "      <td>0.025161</td>\n",
       "      <td>0.0</td>\n",
       "    </tr>\n",
       "    <tr>\n",
       "      <th>1</th>\n",
       "      <td>0.033333</td>\n",
       "      <td>0.0</td>\n",
       "      <td>0.0</td>\n",
       "      <td>0.0</td>\n",
       "      <td>0.0</td>\n",
       "      <td>0.111111</td>\n",
       "      <td>0.022772</td>\n",
       "      <td>0.0</td>\n",
       "      <td>0.0</td>\n",
       "      <td>0.0</td>\n",
       "      <td>0.0</td>\n",
       "      <td>0.0</td>\n",
       "      <td>0.0</td>\n",
       "      <td>0.0</td>\n",
       "      <td>0.0</td>\n",
       "      <td>0.0</td>\n",
       "      <td>0.0</td>\n",
       "      <td>0.0</td>\n",
       "      <td>0.0</td>\n",
       "      <td>0.0</td>\n",
       "      <td>0.0</td>\n",
       "      <td>0.0</td>\n",
       "      <td>0.0</td>\n",
       "      <td>0.0</td>\n",
       "      <td>0.0</td>\n",
       "      <td>0.0</td>\n",
       "      <td>0.0</td>\n",
       "      <td>0.0</td>\n",
       "      <td>0.0</td>\n",
       "      <td>0.0</td>\n",
       "      <td>0.0</td>\n",
       "      <td>0.0</td>\n",
       "      <td>0.0</td>\n",
       "      <td>0.0</td>\n",
       "      <td>0.0</td>\n",
       "      <td>0.000000</td>\n",
       "      <td>0.0</td>\n",
       "      <td>0.571429</td>\n",
       "      <td>0.72</td>\n",
       "      <td>0.0</td>\n",
       "      <td>0.0</td>\n",
       "      <td>0.0</td>\n",
       "      <td>0.0</td>\n",
       "      <td>0.0</td>\n",
       "      <td>0.0</td>\n",
       "      <td>0.0</td>\n",
       "      <td>0.0</td>\n",
       "      <td>0.0</td>\n",
       "      <td>0.0</td>\n",
       "      <td>0.0</td>\n",
       "      <td>0.0</td>\n",
       "      <td>0.0</td>\n",
       "      <td>0.0</td>\n",
       "      <td>0.0</td>\n",
       "      <td>0.0</td>\n",
       "      <td>0.860759</td>\n",
       "      <td>0.798301</td>\n",
       "      <td>0.828715</td>\n",
       "      <td>0.005851</td>\n",
       "      <td>0.0</td>\n",
       "    </tr>\n",
       "    <tr>\n",
       "      <th>2</th>\n",
       "      <td>0.066667</td>\n",
       "      <td>0.0</td>\n",
       "      <td>0.0</td>\n",
       "      <td>0.0</td>\n",
       "      <td>0.0</td>\n",
       "      <td>0.111111</td>\n",
       "      <td>0.022772</td>\n",
       "      <td>0.0</td>\n",
       "      <td>0.0</td>\n",
       "      <td>0.0</td>\n",
       "      <td>0.0</td>\n",
       "      <td>0.0</td>\n",
       "      <td>0.0</td>\n",
       "      <td>0.0</td>\n",
       "      <td>0.0</td>\n",
       "      <td>0.0</td>\n",
       "      <td>0.0</td>\n",
       "      <td>0.0</td>\n",
       "      <td>0.0</td>\n",
       "      <td>0.0</td>\n",
       "      <td>0.0</td>\n",
       "      <td>0.0</td>\n",
       "      <td>0.0</td>\n",
       "      <td>0.0</td>\n",
       "      <td>0.0</td>\n",
       "      <td>0.0</td>\n",
       "      <td>0.0</td>\n",
       "      <td>0.0</td>\n",
       "      <td>0.0</td>\n",
       "      <td>0.0</td>\n",
       "      <td>0.0</td>\n",
       "      <td>0.0</td>\n",
       "      <td>0.0</td>\n",
       "      <td>0.0</td>\n",
       "      <td>0.0</td>\n",
       "      <td>0.477528</td>\n",
       "      <td>0.0</td>\n",
       "      <td>0.571429</td>\n",
       "      <td>0.72</td>\n",
       "      <td>0.0</td>\n",
       "      <td>0.0</td>\n",
       "      <td>0.0</td>\n",
       "      <td>0.0</td>\n",
       "      <td>0.0</td>\n",
       "      <td>0.0</td>\n",
       "      <td>0.0</td>\n",
       "      <td>0.0</td>\n",
       "      <td>0.0</td>\n",
       "      <td>0.0</td>\n",
       "      <td>0.0</td>\n",
       "      <td>0.0</td>\n",
       "      <td>0.0</td>\n",
       "      <td>0.0</td>\n",
       "      <td>0.0</td>\n",
       "      <td>0.0</td>\n",
       "      <td>0.870886</td>\n",
       "      <td>0.783439</td>\n",
       "      <td>0.846348</td>\n",
       "      <td>0.003511</td>\n",
       "      <td>0.0</td>\n",
       "    </tr>\n",
       "    <tr>\n",
       "      <th>3</th>\n",
       "      <td>0.100000</td>\n",
       "      <td>0.0</td>\n",
       "      <td>0.0</td>\n",
       "      <td>0.0</td>\n",
       "      <td>0.0</td>\n",
       "      <td>0.111111</td>\n",
       "      <td>0.022772</td>\n",
       "      <td>0.0</td>\n",
       "      <td>0.0</td>\n",
       "      <td>0.0</td>\n",
       "      <td>0.0</td>\n",
       "      <td>0.0</td>\n",
       "      <td>0.0</td>\n",
       "      <td>0.0</td>\n",
       "      <td>0.0</td>\n",
       "      <td>0.0</td>\n",
       "      <td>0.0</td>\n",
       "      <td>0.0</td>\n",
       "      <td>0.0</td>\n",
       "      <td>0.0</td>\n",
       "      <td>0.0</td>\n",
       "      <td>0.0</td>\n",
       "      <td>0.0</td>\n",
       "      <td>0.0</td>\n",
       "      <td>0.0</td>\n",
       "      <td>0.0</td>\n",
       "      <td>0.0</td>\n",
       "      <td>0.0</td>\n",
       "      <td>0.0</td>\n",
       "      <td>0.0</td>\n",
       "      <td>0.0</td>\n",
       "      <td>0.0</td>\n",
       "      <td>0.0</td>\n",
       "      <td>0.0</td>\n",
       "      <td>0.0</td>\n",
       "      <td>0.000000</td>\n",
       "      <td>0.0</td>\n",
       "      <td>0.571429</td>\n",
       "      <td>0.72</td>\n",
       "      <td>0.0</td>\n",
       "      <td>0.0</td>\n",
       "      <td>0.0</td>\n",
       "      <td>0.0</td>\n",
       "      <td>0.0</td>\n",
       "      <td>0.0</td>\n",
       "      <td>0.0</td>\n",
       "      <td>0.0</td>\n",
       "      <td>0.0</td>\n",
       "      <td>0.0</td>\n",
       "      <td>0.0</td>\n",
       "      <td>0.0</td>\n",
       "      <td>0.0</td>\n",
       "      <td>0.0</td>\n",
       "      <td>0.0</td>\n",
       "      <td>0.0</td>\n",
       "      <td>0.858228</td>\n",
       "      <td>0.781316</td>\n",
       "      <td>0.788413</td>\n",
       "      <td>0.016384</td>\n",
       "      <td>0.0</td>\n",
       "    </tr>\n",
       "    <tr>\n",
       "      <th>4</th>\n",
       "      <td>0.133333</td>\n",
       "      <td>0.0</td>\n",
       "      <td>0.0</td>\n",
       "      <td>0.0</td>\n",
       "      <td>0.0</td>\n",
       "      <td>0.111111</td>\n",
       "      <td>0.022772</td>\n",
       "      <td>0.0</td>\n",
       "      <td>0.0</td>\n",
       "      <td>0.0</td>\n",
       "      <td>0.0</td>\n",
       "      <td>0.0</td>\n",
       "      <td>0.0</td>\n",
       "      <td>0.0</td>\n",
       "      <td>0.0</td>\n",
       "      <td>0.0</td>\n",
       "      <td>0.0</td>\n",
       "      <td>0.0</td>\n",
       "      <td>0.0</td>\n",
       "      <td>0.0</td>\n",
       "      <td>0.0</td>\n",
       "      <td>0.0</td>\n",
       "      <td>0.0</td>\n",
       "      <td>0.0</td>\n",
       "      <td>0.0</td>\n",
       "      <td>0.0</td>\n",
       "      <td>0.0</td>\n",
       "      <td>0.0</td>\n",
       "      <td>0.0</td>\n",
       "      <td>0.0</td>\n",
       "      <td>0.0</td>\n",
       "      <td>0.0</td>\n",
       "      <td>0.0</td>\n",
       "      <td>0.0</td>\n",
       "      <td>0.0</td>\n",
       "      <td>0.000000</td>\n",
       "      <td>0.0</td>\n",
       "      <td>0.571429</td>\n",
       "      <td>0.72</td>\n",
       "      <td>0.0</td>\n",
       "      <td>0.0</td>\n",
       "      <td>0.0</td>\n",
       "      <td>0.0</td>\n",
       "      <td>0.0</td>\n",
       "      <td>0.0</td>\n",
       "      <td>0.0</td>\n",
       "      <td>0.0</td>\n",
       "      <td>0.0</td>\n",
       "      <td>0.0</td>\n",
       "      <td>0.0</td>\n",
       "      <td>0.0</td>\n",
       "      <td>0.0</td>\n",
       "      <td>0.0</td>\n",
       "      <td>0.0</td>\n",
       "      <td>0.0</td>\n",
       "      <td>0.787342</td>\n",
       "      <td>0.702760</td>\n",
       "      <td>0.793451</td>\n",
       "      <td>0.035693</td>\n",
       "      <td>0.0</td>\n",
       "    </tr>\n",
       "  </tbody>\n",
       "</table>\n",
       "</div>"
      ],
      "text/plain": [
       "       Data  Ano  Mes  Sem  Unidade  ID_UNIDADE       QLP  Altura  \\\n",
       "0  0.000000  0.0  0.0  0.0      0.0    0.111111  0.022772     0.0   \n",
       "1  0.033333  0.0  0.0  0.0      0.0    0.111111  0.022772     0.0   \n",
       "2  0.066667  0.0  0.0  0.0      0.0    0.111111  0.022772     0.0   \n",
       "3  0.100000  0.0  0.0  0.0      0.0    0.111111  0.022772     0.0   \n",
       "4  0.133333  0.0  0.0  0.0      0.0    0.111111  0.022772     0.0   \n",
       "\n",
       "   Atencao_Postural  Celular  Eletricidade  EPI  Equipamento_de_Elevacao  \\\n",
       "0               0.0      0.0           0.0  0.0                      0.0   \n",
       "1               0.0      0.0           0.0  0.0                      0.0   \n",
       "2               0.0      0.0           0.0  0.0                      0.0   \n",
       "3               0.0      0.0           0.0  0.0                      0.0   \n",
       "4               0.0      0.0           0.0  0.0                      0.0   \n",
       "\n",
       "   Espaco_Confinado  LOTO  Manuseio_de_Vidro  Piso_Molhado   PT  Quimicos  \\\n",
       "0               0.0   0.0                0.0           0.0  0.0       0.0   \n",
       "1               0.0   0.0                0.0           0.0  0.0       0.0   \n",
       "2               0.0   0.0                0.0           0.0  0.0       0.0   \n",
       "3               0.0   0.0                0.0           0.0  0.0       0.0   \n",
       "4               0.0   0.0                0.0           0.0  0.0       0.0   \n",
       "\n",
       "   SAM  Transporte  Indefinido  Atos_inseguros_no_dia  \\\n",
       "0  0.0         0.0         0.0                    0.0   \n",
       "1  0.0         0.0         0.0                    0.0   \n",
       "2  0.0         0.0         0.0                    0.0   \n",
       "3  0.0         0.0         0.0                    0.0   \n",
       "4  0.0         0.0         0.0                    0.0   \n",
       "\n",
       "   Atos_inseguros_15_dias_antes  Atos_inseguros_30_dias_antes  \\\n",
       "0                           0.0                           0.0   \n",
       "1                           0.0                           0.0   \n",
       "2                           0.0                           0.0   \n",
       "3                           0.0                           0.0   \n",
       "4                           0.0                           0.0   \n",
       "\n",
       "   Atos_inseguros_45_dias_antes  incidentes_no_dia  incidentes_em_15_dias  \\\n",
       "0                           0.0                0.0                    0.0   \n",
       "1                           0.0                0.0                    0.0   \n",
       "2                           0.0                0.0                    0.0   \n",
       "3                           0.0                0.0                    0.0   \n",
       "4                           0.0                0.0                    0.0   \n",
       "\n",
       "   incidentes_em_30_dias  incidentes_em_45_dias  abordagens_positivas  \\\n",
       "0                    0.0                    0.0                   0.0   \n",
       "1                    0.0                    0.0                   0.0   \n",
       "2                    0.0                    0.0                   0.0   \n",
       "3                    0.0                    0.0                   0.0   \n",
       "4                    0.0                    0.0                   0.0   \n",
       "\n",
       "   abordagens_positivas_15_dias_antes  abordagens_positivas_30_dias_antes  \\\n",
       "0                                 0.0                                 0.0   \n",
       "1                                 0.0                                 0.0   \n",
       "2                                 0.0                                 0.0   \n",
       "3                                 0.0                                 0.0   \n",
       "4                                 0.0                                 0.0   \n",
       "\n",
       "   abordagens_positivas_45_dias_antes  Turnover  Horas_Excedentes  \\\n",
       "0                                 0.0       0.0          0.000000   \n",
       "1                                 0.0       0.0          0.000000   \n",
       "2                                 0.0       0.0          0.477528   \n",
       "3                                 0.0       0.0          0.000000   \n",
       "4                                 0.0       0.0          0.000000   \n",
       "\n",
       "   Interjornadas    Cidade  Cidade_Clima  Volume_prod  Parada_Automacao  \\\n",
       "0            0.0  0.571429          0.72          0.0               0.0   \n",
       "1            0.0  0.571429          0.72          0.0               0.0   \n",
       "2            0.0  0.571429          0.72          0.0               0.0   \n",
       "3            0.0  0.571429          0.72          0.0               0.0   \n",
       "4            0.0  0.571429          0.72          0.0               0.0   \n",
       "\n",
       "   Parada_Eletrica  Parada_HSMO  Parada_Instrumentacao  Parada_Logistica  \\\n",
       "0              0.0          0.0                    0.0               0.0   \n",
       "1              0.0          0.0                    0.0               0.0   \n",
       "2              0.0          0.0                    0.0               0.0   \n",
       "3              0.0          0.0                    0.0               0.0   \n",
       "4              0.0          0.0                    0.0               0.0   \n",
       "\n",
       "   Parada_Mecanica  Parada_Operacional  Parada_Processo  Parada_Programada  \\\n",
       "0              0.0                 0.0              0.0                0.0   \n",
       "1              0.0                 0.0              0.0                0.0   \n",
       "2              0.0                 0.0              0.0                0.0   \n",
       "3              0.0                 0.0              0.0                0.0   \n",
       "4              0.0                 0.0              0.0                0.0   \n",
       "\n",
       "   Parada_Qualidade  Parada_Suprimentos  Parada_Utilidades  total_paradas  \\\n",
       "0               0.0                 0.0                0.0            0.0   \n",
       "1               0.0                 0.0                0.0            0.0   \n",
       "2               0.0                 0.0                0.0            0.0   \n",
       "3               0.0                 0.0                0.0            0.0   \n",
       "4               0.0                 0.0                0.0            0.0   \n",
       "\n",
       "   QTD_FAI_30_dias_antes  QTD_FAI_45_dias_antes  AVGTEMP_C  MAXTEMP_C  \\\n",
       "0                    0.0                    0.0   0.845570   0.770701   \n",
       "1                    0.0                    0.0   0.860759   0.798301   \n",
       "2                    0.0                    0.0   0.870886   0.783439   \n",
       "3                    0.0                    0.0   0.858228   0.781316   \n",
       "4                    0.0                    0.0   0.787342   0.702760   \n",
       "\n",
       "   MINTEMP_C  TOTALPRECIP_MM  HOUVE_TRI_FAI  \n",
       "0   0.833753        0.025161            0.0  \n",
       "1   0.828715        0.005851            0.0  \n",
       "2   0.846348        0.003511            0.0  \n",
       "3   0.788413        0.016384            0.0  \n",
       "4   0.793451        0.035693            0.0  "
      ]
     },
     "execution_count": 31,
     "metadata": {},
     "output_type": "execute_result"
    }
   ],
   "source": [
    "dataset.head()"
   ]
  },
  {
   "cell_type": "markdown",
   "metadata": {},
   "source": [
    "### Train Test Split"
   ]
  },
  {
   "cell_type": "code",
   "execution_count": 32,
   "metadata": {},
   "outputs": [
    {
     "data": {
      "text/plain": [
       "((38406, 59), (9602, 59))"
      ]
     },
     "execution_count": 32,
     "metadata": {},
     "output_type": "execute_result"
    }
   ],
   "source": [
    "X_train, X_test, y_train, y_test = train_test_split(dataset.drop(labels=['HOUVE_TRI_FAI'], axis=1), \n",
    "                                                    dataset[['HOUVE_TRI_FAI']], \n",
    "                                                    test_size=0.2, \n",
    "                                                    random_state=0)\n",
    "\n",
    "X_train.shape, X_test.shape"
   ]
  },
  {
   "cell_type": "markdown",
   "metadata": {},
   "source": []
  },
  {
   "cell_type": "code",
   "execution_count": null,
   "metadata": {},
   "outputs": [],
   "source": []
  },
  {
   "cell_type": "markdown",
   "metadata": {},
   "source": [
    "# Feature Selection"
   ]
  },
  {
   "cell_type": "markdown",
   "metadata": {},
   "source": [
    "### Removing constant features\n",
    "\n",
    "The code below removes all features which variance doesn’t meet some threshold (in this case, zero)"
   ]
  },
  {
   "cell_type": "code",
   "execution_count": 33,
   "metadata": {},
   "outputs": [],
   "source": [
    "constant_features = [\n",
    "    feat for feat in X_train.columns if X_train[feat].std() == 0\n",
    "]"
   ]
  },
  {
   "cell_type": "code",
   "execution_count": 34,
   "metadata": {},
   "outputs": [
    {
     "data": {
      "text/plain": [
       "['Indefinido']"
      ]
     },
     "execution_count": 34,
     "metadata": {},
     "output_type": "execute_result"
    }
   ],
   "source": [
    "constant_features"
   ]
  },
  {
   "cell_type": "code",
   "execution_count": 35,
   "metadata": {},
   "outputs": [
    {
     "data": {
      "text/plain": [
       "array([0.])"
      ]
     },
     "execution_count": 35,
     "metadata": {},
     "output_type": "execute_result"
    }
   ],
   "source": [
    "X_train['Indefinido'].unique()"
   ]
  },
  {
   "cell_type": "code",
   "execution_count": 36,
   "metadata": {},
   "outputs": [
    {
     "data": {
      "text/plain": [
       "((38406, 58), (9602, 58))"
      ]
     },
     "execution_count": 36,
     "metadata": {},
     "output_type": "execute_result"
    }
   ],
   "source": [
    "X_train.drop(labels=constant_features, axis=1, inplace=True)\n",
    "X_test.drop(labels=constant_features, axis=1, inplace=True)\n",
    "\n",
    "X_train.shape, X_test.shape"
   ]
  },
  {
   "cell_type": "code",
   "execution_count": null,
   "metadata": {},
   "outputs": [],
   "source": []
  },
  {
   "cell_type": "markdown",
   "metadata": {},
   "source": [
    "### Removing quasi constant features\n",
    "The code below removes all features which variance does not meet some threshold (in this case, almost 99%)"
   ]
  },
  {
   "cell_type": "code",
   "execution_count": 37,
   "metadata": {},
   "outputs": [
    {
     "data": {
      "text/plain": [
       "4"
      ]
     },
     "execution_count": 37,
     "metadata": {},
     "output_type": "execute_result"
    }
   ],
   "source": [
    "quasi_constant_feat = []\n",
    "for feature in X_train.columns:\n",
    "\n",
    "    # find the predominant value\n",
    "    predominant = (X_train[feature].value_counts() / np.float(\n",
    "        len(X_train))).sort_values(ascending=False).values[0]\n",
    "\n",
    "    # evaluate predominant feature\n",
    "    if predominant > 0.98:\n",
    "        quasi_constant_feat.append(feature)\n",
    "\n",
    "len(quasi_constant_feat)"
   ]
  },
  {
   "cell_type": "code",
   "execution_count": 38,
   "metadata": {},
   "outputs": [
    {
     "name": "stdout",
     "output_type": "stream",
     "text": [
      "['Equipamento_de_Elevacao', 'Espaco_Confinado', 'PT', 'Turnover']\n"
     ]
    }
   ],
   "source": [
    "print(list(quasi_constant_feat))"
   ]
  },
  {
   "cell_type": "code",
   "execution_count": 39,
   "metadata": {},
   "outputs": [
    {
     "data": {
      "text/plain": [
       "((38406, 54), (9602, 54))"
      ]
     },
     "execution_count": 39,
     "metadata": {},
     "output_type": "execute_result"
    }
   ],
   "source": [
    "X_train.drop(labels=quasi_constant_feat, axis=1, inplace=True)\n",
    "X_test.drop(labels=quasi_constant_feat, axis=1, inplace=True)\n",
    "\n",
    "X_train.shape, X_test.shape"
   ]
  },
  {
   "cell_type": "code",
   "execution_count": null,
   "metadata": {},
   "outputs": [],
   "source": []
  },
  {
   "cell_type": "markdown",
   "metadata": {},
   "source": [
    "### Recursive Feature Elimination"
   ]
  },
  {
   "cell_type": "code",
   "execution_count": 40,
   "metadata": {},
   "outputs": [
    {
     "name": "stdout",
     "output_type": "stream",
     "text": [
      "Test all features xgb ROC AUC=0.832350\n"
     ]
    }
   ],
   "source": [
    "# Importance of the features according to the algorithm\n",
    "\n",
    "# set the seed for reproducibility\n",
    "seed_val = 1000000000\n",
    "np.random.seed(seed_val)\n",
    "\n",
    "model_all_features = xgb.XGBClassifier(nthread=10, max_depth=8, n_estimators=500, learning_rate=0.05)\n",
    "\n",
    "model_all_features.fit(X_train, y_train)\n",
    "\n",
    "# calculate the roc-auc in the test set\n",
    "y_pred_test = model_all_features.predict_proba(X_test)[:, 1]\n",
    "auc_score_all = roc_auc_score(y_test, y_pred_test)\n",
    "print('Test all features xgb ROC AUC=%f' % (auc_score_all))"
   ]
  },
  {
   "cell_type": "code",
   "execution_count": 41,
   "metadata": {},
   "outputs": [
    {
     "data": {
      "text/plain": [
       "<matplotlib.axes._subplots.AxesSubplot at 0x10a0b51d0>"
      ]
     },
     "execution_count": 41,
     "metadata": {},
     "output_type": "execute_result"
    },
    {
     "data": {
      "image/png": "[encoded data removed]",
      "text/plain": [
       "<Figure size 1296x432 with 1 Axes>"
      ]
     },
     "metadata": {
      "needs_background": "light"
     },
     "output_type": "display_data"
    }
   ],
   "source": [
    "#  ranking each feature from the least to the most important\n",
    "features = pd.Series(model_all_features.feature_importances_)\n",
    "features.index = X_train.columns\n",
    "\n",
    "features.sort_values(ascending=True, inplace=True)\n",
    "\n",
    "features.plot.bar(figsize=(18,6))"
   ]
  },
  {
   "cell_type": "code",
   "execution_count": 42,
   "metadata": {},
   "outputs": [],
   "source": [
    "features = list(features.index)"
   ]
  },
  {
   "cell_type": "code",
   "execution_count": 43,
   "metadata": {
    "scrolled": true
   },
   "outputs": [
    {
     "name": "stdout",
     "output_type": "stream",
     "text": [
      "doing recursive feature elimination\n",
      "\n",
      "testing feature:  Sem  which is feature  1  out of  54\n",
      "New Test ROC AUC=0.832349708124189\n",
      "All features Test ROC AUC=0.832349708124189\n",
      "Drop in ROC AUC=0.0\n",
      "remove:  Sem\n",
      "\n",
      "testing feature:  Ano  which is feature  2  out of  54\n",
      "New Test ROC AUC=0.8332197149916699\n",
      "All features Test ROC AUC=0.832349708124189\n",
      "Drop in ROC AUC=-0.0008700068674809547\n",
      "remove:  Ano\n",
      "\n",
      "testing feature:  Parada_Suprimentos  which is feature  3  out of  54\n",
      "New Test ROC AUC=0.8301474540412495\n",
      "All features Test ROC AUC=0.8332197149916699\n",
      "Drop in ROC AUC=0.003072260950420458\n",
      "keep:  Parada_Suprimentos\n",
      "\n",
      "testing feature:  Parada_Instrumentacao  which is feature  4  out of  54\n",
      "New Test ROC AUC=0.8322873623551837\n",
      "All features Test ROC AUC=0.8332197149916699\n",
      "Drop in ROC AUC=0.0009323526364861667\n",
      "keep:  Parada_Instrumentacao\n",
      "\n",
      "testing feature:  Altura  which is feature  5  out of  54\n",
      "New Test ROC AUC=0.833058497649596\n",
      "All features Test ROC AUC=0.8332197149916699\n",
      "Drop in ROC AUC=0.00016121734207386051\n",
      "remove:  Altura\n",
      "\n",
      "testing feature:  Quimicos  which is feature  6  out of  54\n",
      "New Test ROC AUC=0.8345368480813089\n",
      "All features Test ROC AUC=0.833058497649596\n",
      "Drop in ROC AUC=-0.0014783504317128493\n",
      "remove:  Quimicos\n",
      "\n",
      "testing feature:  Eletricidade  which is feature  7  out of  54\n",
      "New Test ROC AUC=0.8311276680761638\n",
      "All features Test ROC AUC=0.8345368480813089\n",
      "Drop in ROC AUC=0.003409180005145118\n",
      "keep:  Eletricidade\n",
      "\n",
      "testing feature:  Piso_Molhado  which is feature  8  out of  54\n",
      "New Test ROC AUC=0.8326160945917565\n",
      "All features Test ROC AUC=0.8345368480813089\n",
      "Drop in ROC AUC=0.0019207534895524514\n",
      "keep:  Piso_Molhado\n",
      "\n",
      "testing feature:  Celular  which is feature  9  out of  54\n",
      "New Test ROC AUC=0.8334265895888233\n",
      "All features Test ROC AUC=0.8345368480813089\n",
      "Drop in ROC AUC=0.001110258492485583\n",
      "keep:  Celular\n",
      "\n",
      "testing feature:  Manuseio_de_Vidro  which is feature  10  out of  54\n",
      "New Test ROC AUC=0.8348652654402603\n",
      "All features Test ROC AUC=0.8345368480813089\n",
      "Drop in ROC AUC=-0.0003284173589513939\n",
      "remove:  Manuseio_de_Vidro\n",
      "\n",
      "testing feature:  SAM  which is feature  11  out of  54\n",
      "New Test ROC AUC=0.8308115309444407\n",
      "All features Test ROC AUC=0.8348652654402603\n",
      "Drop in ROC AUC=0.004053734495819583\n",
      "keep:  SAM\n",
      "\n",
      "testing feature:  Volume_prod  which is feature  12  out of  54\n",
      "New Test ROC AUC=0.832333964243127\n",
      "All features Test ROC AUC=0.8348652654402603\n",
      "Drop in ROC AUC=0.0025313011971332955\n",
      "keep:  Volume_prod\n",
      "\n",
      "testing feature:  LOTO  which is feature  13  out of  54\n",
      "New Test ROC AUC=0.8309318141957537\n",
      "All features Test ROC AUC=0.8348652654402603\n",
      "Drop in ROC AUC=0.003933451244506614\n",
      "keep:  LOTO\n",
      "\n",
      "testing feature:  Parada_Processo  which is feature  14  out of  54\n",
      "New Test ROC AUC=0.8316453268854793\n",
      "All features Test ROC AUC=0.8348652654402603\n",
      "Drop in ROC AUC=0.0032199385547809767\n",
      "keep:  Parada_Processo\n",
      "\n",
      "testing feature:  Parada_HSMO  which is feature  15  out of  54\n",
      "New Test ROC AUC=0.8320660033874534\n",
      "All features Test ROC AUC=0.8348652654402603\n",
      "Drop in ROC AUC=0.0027992620528068946\n",
      "keep:  Parada_HSMO\n",
      "\n",
      "testing feature:  total_paradas  which is feature  16  out of  54\n",
      "New Test ROC AUC=0.8333022129284344\n",
      "All features Test ROC AUC=0.8348652654402603\n",
      "Drop in ROC AUC=0.0015630525118258687\n",
      "keep:  total_paradas\n",
      "\n",
      "testing feature:  Parada_Automacao  which is feature  17  out of  54\n",
      "New Test ROC AUC=0.8333403131206041\n",
      "All features Test ROC AUC=0.8348652654402603\n",
      "Drop in ROC AUC=0.0015249523196562143\n",
      "keep:  Parada_Automacao\n",
      "\n",
      "testing feature:  Parada_Qualidade  which is feature  18  out of  54\n",
      "New Test ROC AUC=0.8304185636731357\n",
      "All features Test ROC AUC=0.8348652654402603\n",
      "Drop in ROC AUC=0.004446701767124583\n",
      "keep:  Parada_Qualidade\n",
      "\n",
      "testing feature:  Cidade_Clima  which is feature  19  out of  54\n",
      "New Test ROC AUC=0.8319507581780803\n",
      "All features Test ROC AUC=0.8348652654402603\n",
      "Drop in ROC AUC=0.0029145072621800105\n",
      "keep:  Cidade_Clima\n",
      "\n",
      "testing feature:  Parada_Utilidades  which is feature  20  out of  54\n",
      "New Test ROC AUC=0.835674186049221\n",
      "All features Test ROC AUC=0.8348652654402603\n",
      "Drop in ROC AUC=-0.0008089206089606504\n",
      "remove:  Parada_Utilidades\n",
      "\n",
      "testing feature:  Cidade  which is feature  21  out of  54\n",
      "New Test ROC AUC=0.8345321249169904\n",
      "All features Test ROC AUC=0.835674186049221\n",
      "Drop in ROC AUC=0.0011420611322305874\n",
      "keep:  Cidade\n",
      "\n",
      "testing feature:  ID_UNIDADE  which is feature  22  out of  54\n",
      "New Test ROC AUC=0.8317725374444596\n",
      "All features Test ROC AUC=0.835674186049221\n",
      "Drop in ROC AUC=0.0039016486047613874\n",
      "keep:  ID_UNIDADE\n",
      "\n",
      "testing feature:  incidentes_em_45_dias  which is feature  23  out of  54\n",
      "New Test ROC AUC=0.8342906137815009\n",
      "All features Test ROC AUC=0.835674186049221\n",
      "Drop in ROC AUC=0.0013835722677200124\n",
      "keep:  incidentes_em_45_dias\n",
      "\n",
      "testing feature:  Parada_Eletrica  which is feature  24  out of  54\n",
      "New Test ROC AUC=0.8305388469244485\n",
      "All features Test ROC AUC=0.835674186049221\n",
      "Drop in ROC AUC=0.005135339124772487\n",
      "keep:  Parada_Eletrica\n",
      "\n",
      "testing feature:  incidentes_em_30_dias  which is feature  25  out of  54\n",
      "New Test ROC AUC=0.832606333385498\n",
      "All features Test ROC AUC=0.835674186049221\n",
      "Drop in ROC AUC=0.003067852663722892\n",
      "keep:  incidentes_em_30_dias\n",
      "\n",
      "testing feature:  Unidade  which is feature  26  out of  54\n",
      "New Test ROC AUC=0.8319422564823069\n",
      "All features Test ROC AUC=0.835674186049221\n",
      "Drop in ROC AUC=0.0037319295669140384\n",
      "keep:  Unidade\n",
      "\n",
      "testing feature:  Parada_Programada  which is feature  27  out of  54\n",
      "New Test ROC AUC=0.832510925466263\n",
      "All features Test ROC AUC=0.835674186049221\n",
      "Drop in ROC AUC=0.0031632605829579052\n",
      "keep:  Parada_Programada\n",
      "\n",
      "testing feature:  Parada_Mecanica  which is feature  28  out of  54\n",
      "New Test ROC AUC=0.8316421781092669\n",
      "All features Test ROC AUC=0.835674186049221\n",
      "Drop in ROC AUC=0.004032007939954063\n",
      "keep:  Parada_Mecanica\n",
      "\n",
      "testing feature:  Parada_Operacional  which is feature  29  out of  54\n",
      "New Test ROC AUC=0.833246164711854\n",
      "All features Test ROC AUC=0.835674186049221\n",
      "Drop in ROC AUC=0.00242802133736697\n",
      "keep:  Parada_Operacional\n",
      "\n",
      "testing feature:  Parada_Logistica  which is feature  30  out of  54\n",
      "New Test ROC AUC=0.8323081442781856\n",
      "All features Test ROC AUC=0.835674186049221\n",
      "Drop in ROC AUC=0.0033660417710353885\n",
      "keep:  Parada_Logistica\n",
      "\n",
      "testing feature:  Atos_inseguros_30_dias_antes  which is feature  31  out of  54\n",
      "New Test ROC AUC=0.8334744509872515\n",
      "All features Test ROC AUC=0.835674186049221\n",
      "Drop in ROC AUC=0.0021997350619694656\n",
      "keep:  Atos_inseguros_30_dias_antes\n",
      "\n",
      "testing feature:  Atos_inseguros_no_dia  which is feature  32  out of  54\n",
      "New Test ROC AUC=0.8335657654974107\n",
      "All features Test ROC AUC=0.835674186049221\n",
      "Drop in ROC AUC=0.002108420551810264\n",
      "keep:  Atos_inseguros_no_dia\n",
      "\n",
      "testing feature:  QTD_FAI_45_dias_antes  which is feature  33  out of  54\n",
      "New Test ROC AUC=0.8332307357084132\n",
      "All features Test ROC AUC=0.835674186049221\n",
      "Drop in ROC AUC=0.002443450340807729\n",
      "keep:  QTD_FAI_45_dias_antes\n",
      "\n",
      "testing feature:  Atencao_Postural  which is feature  34  out of  54\n",
      "New Test ROC AUC=0.8339261429349176\n",
      "All features Test ROC AUC=0.835674186049221\n",
      "Drop in ROC AUC=0.0017480431143033215\n",
      "keep:  Atencao_Postural\n",
      "\n",
      "testing feature:  Mes  which is feature  35  out of  54\n",
      "New Test ROC AUC=0.8325008493823833\n",
      "All features Test ROC AUC=0.835674186049221\n",
      "Drop in ROC AUC=0.0031733366668376117\n",
      "keep:  Mes\n",
      "\n",
      "testing feature:  incidentes_em_15_dias  which is feature  36  out of  54\n",
      "New Test ROC AUC=0.8336677858466917\n",
      "All features Test ROC AUC=0.835674186049221\n",
      "Drop in ROC AUC=0.0020064002025292904\n",
      "keep:  incidentes_em_15_dias\n",
      "\n",
      "testing feature:  abordagens_positivas  which is feature  37  out of  54\n",
      "New Test ROC AUC=0.8342729806347114\n",
      "All features Test ROC AUC=0.835674186049221\n",
      "Drop in ROC AUC=0.0014012054145094988\n",
      "keep:  abordagens_positivas\n",
      "\n",
      "testing feature:  Transporte  which is feature  38  out of  54\n",
      "New Test ROC AUC=0.8328733496083081\n",
      "All features Test ROC AUC=0.835674186049221\n",
      "Drop in ROC AUC=0.0028008364409128905\n",
      "keep:  Transporte\n",
      "\n",
      "testing feature:  Atos_inseguros_15_dias_antes  which is feature  39  out of  54\n",
      "New Test ROC AUC=0.8322306843833609\n",
      "All features Test ROC AUC=0.835674186049221\n",
      "Drop in ROC AUC=0.0034435016658600492\n",
      "keep:  Atos_inseguros_15_dias_antes\n",
      "\n",
      "testing feature:  Atos_inseguros_45_dias_antes  which is feature  40  out of  54\n"
     ]
    },
    {
     "name": "stdout",
     "output_type": "stream",
     "text": [
      "New Test ROC AUC=0.8304538299667144\n",
      "All features Test ROC AUC=0.835674186049221\n",
      "Drop in ROC AUC=0.005220356082506594\n",
      "keep:  Atos_inseguros_45_dias_antes\n",
      "\n",
      "testing feature:  abordagens_positivas_45_dias_antes  which is feature  41  out of  54\n",
      "New Test ROC AUC=0.8343907448650545\n",
      "All features Test ROC AUC=0.835674186049221\n",
      "Drop in ROC AUC=0.0012834411841664561\n",
      "keep:  abordagens_positivas_45_dias_antes\n",
      "\n",
      "testing feature:  incidentes_no_dia  which is feature  42  out of  54\n",
      "New Test ROC AUC=0.8309274059090564\n",
      "All features Test ROC AUC=0.835674186049221\n",
      "Drop in ROC AUC=0.004746780140164497\n",
      "keep:  incidentes_no_dia\n",
      "\n",
      "testing feature:  EPI  which is feature  43  out of  54\n",
      "New Test ROC AUC=0.8317454579690331\n",
      "All features Test ROC AUC=0.835674186049221\n",
      "Drop in ROC AUC=0.003928728080187849\n",
      "keep:  EPI\n",
      "\n",
      "testing feature:  abordagens_positivas_30_dias_antes  which is feature  44  out of  54\n",
      "New Test ROC AUC=0.8354918719065242\n",
      "All features Test ROC AUC=0.835674186049221\n",
      "Drop in ROC AUC=0.00018231414269676005\n",
      "remove:  abordagens_positivas_30_dias_antes\n",
      "\n",
      "testing feature:  abordagens_positivas_15_dias_antes  which is feature  45  out of  54\n",
      "New Test ROC AUC=0.8326998520390058\n",
      "All features Test ROC AUC=0.8354918719065242\n",
      "Drop in ROC AUC=0.002792019867518425\n",
      "keep:  abordagens_positivas_15_dias_antes\n",
      "\n",
      "testing feature:  QTD_FAI_30_dias_antes  which is feature  46  out of  54\n",
      "New Test ROC AUC=0.8224206720936874\n",
      "All features Test ROC AUC=0.8354918719065242\n",
      "Drop in ROC AUC=0.013071199812836776\n",
      "keep:  QTD_FAI_30_dias_antes\n",
      "\n",
      "testing feature:  QLP  which is feature  47  out of  54\n",
      "New Test ROC AUC=0.8343485512638086\n",
      "All features Test ROC AUC=0.8354918719065242\n",
      "Drop in ROC AUC=0.0011433206427156062\n",
      "keep:  QLP\n",
      "\n",
      "testing feature:  AVGTEMP_C  which is feature  48  out of  54\n",
      "New Test ROC AUC=0.8335408901653328\n",
      "All features Test ROC AUC=0.8354918719065242\n",
      "Drop in ROC AUC=0.0019509817411913488\n",
      "keep:  AVGTEMP_C\n",
      "\n",
      "testing feature:  Interjornadas  which is feature  49  out of  54\n",
      "New Test ROC AUC=0.8317596274619887\n",
      "All features Test ROC AUC=0.8354918719065242\n",
      "Drop in ROC AUC=0.0037322444445354597\n",
      "keep:  Interjornadas\n",
      "\n",
      "testing feature:  TOTALPRECIP_MM  which is feature  50  out of  54\n",
      "New Test ROC AUC=0.8313934247884887\n",
      "All features Test ROC AUC=0.8354918719065242\n",
      "Drop in ROC AUC=0.004098447118035531\n",
      "keep:  TOTALPRECIP_MM\n",
      "\n",
      "testing feature:  MAXTEMP_C  which is feature  51  out of  54\n",
      "New Test ROC AUC=0.8325036832809745\n",
      "All features Test ROC AUC=0.8354918719065242\n",
      "Drop in ROC AUC=0.002988188625549726\n",
      "keep:  MAXTEMP_C\n",
      "\n",
      "testing feature:  MINTEMP_C  which is feature  52  out of  54\n",
      "New Test ROC AUC=0.8325581571094486\n",
      "All features Test ROC AUC=0.8354918719065242\n",
      "Drop in ROC AUC=0.002933714797075604\n",
      "keep:  MINTEMP_C\n",
      "\n",
      "testing feature:  Horas_Excedentes  which is feature  53  out of  54\n",
      "New Test ROC AUC=0.8284902531206735\n",
      "All features Test ROC AUC=0.8354918719065242\n",
      "Drop in ROC AUC=0.007001618785850705\n",
      "keep:  Horas_Excedentes\n",
      "\n",
      "testing feature:  Data  which is feature  54  out of  54\n",
      "New Test ROC AUC=0.8289074659688139\n",
      "All features Test ROC AUC=0.8354918719065242\n",
      "Drop in ROC AUC=0.006584405937710258\n",
      "keep:  Data\n",
      "Done\n",
      "total features to remove:  7\n",
      "total features to keep:  47\n"
     ]
    }
   ],
   "source": [
    "# removing one at a time\n",
    "# all the features, from the least to the most\n",
    "# important, and build an xgboost at each round.\n",
    "\n",
    "# once we build the model, we calculate the new roc-auc\n",
    "# if the new roc-auc is smaller than the original one\n",
    "# (with all the features), then that feature that was removed\n",
    "# was important, and we should keep it.\n",
    "# otherwise, we should remove the feature\n",
    "\n",
    "tol = 0.0005\n",
    "\n",
    "print('doing recursive feature elimination')\n",
    "\n",
    "# we initialise a list where we will collect the\n",
    "# features we should remove\n",
    "features_to_remove = []\n",
    "\n",
    "# set a counter to know how far ahead the loop is going\n",
    "count = 1\n",
    "\n",
    "# now we loop over all the features, in order of importance:\n",
    "# remember that features is the list of ordered features\n",
    "# by importance\n",
    "for feature in features:\n",
    "    print()\n",
    "    print('testing feature: ', feature, ' which is feature ', count,\n",
    "          ' out of ', len(features))\n",
    "    count = count + 1\n",
    "\n",
    "    # initialise model\n",
    "    model_int = xgb.XGBClassifier(\n",
    "        nthread=10, max_depth=8, n_estimators=500, learning_rate=0.05)\n",
    "\n",
    "    # fit model with all variables minus the removed features\n",
    "    # and the feature to be evaluated\n",
    "    model_int.fit(\n",
    "        X_train.drop(features_to_remove + [feature], axis=1), y_train)\n",
    "\n",
    "    # make a prediction over the test set\n",
    "    y_pred_test = model_int.predict_proba(\n",
    "        X_test.drop(features_to_remove + [feature], axis=1))[:, 1]\n",
    "\n",
    "    # calculate the new roc-auc\n",
    "    auc_score_int = roc_auc_score(y_test, y_pred_test)\n",
    "    print('New Test ROC AUC={}'.format((auc_score_int)))\n",
    "\n",
    "    # print the original roc-auc with all the features\n",
    "    print('All features Test ROC AUC={}'.format((auc_score_all)))\n",
    "\n",
    "    # determine the drop in the roc-auc\n",
    "    diff_auc = auc_score_all - auc_score_int\n",
    "\n",
    "    # compare the drop in roc-auc with the tolerance\n",
    "    # we set previously\n",
    "    if diff_auc >= tol:\n",
    "        print('Drop in ROC AUC={}'.format(diff_auc))\n",
    "        print('keep: ', feature)\n",
    "        print\n",
    "    else:\n",
    "        print('Drop in ROC AUC={}'.format(diff_auc))\n",
    "        print('remove: ', feature)\n",
    "        print\n",
    "        # if the drop in the roc is small and we remove the\n",
    "        # feature, we need to set the new roc to the one based on\n",
    "        # the remaining features\n",
    "        auc_score_all = auc_score_int\n",
    "        \n",
    "        # and append the feature to remove to the collecting\n",
    "        # list\n",
    "        features_to_remove.append(feature)\n",
    "\n",
    "# now the loop is finished, we evaluated all the features\n",
    "print('Done')\n",
    "print('total features to remove: ', len(features_to_remove))\n",
    "\n",
    "# determine the features to keep (those we won't remove)\n",
    "features_to_keep = [x for x in features if x not in features_to_remove]\n",
    "print('total features to keep: ', len(features_to_keep))"
   ]
  },
  {
   "cell_type": "code",
   "execution_count": 45,
   "metadata": {},
   "outputs": [
    {
     "data": {
      "text/plain": [
       "['Sem',\n",
       " 'Ano',\n",
       " 'Altura',\n",
       " 'Quimicos',\n",
       " 'Manuseio_de_Vidro',\n",
       " 'Parada_Utilidades',\n",
       " 'abordagens_positivas_30_dias_antes']"
      ]
     },
     "execution_count": 45,
     "metadata": {},
     "output_type": "execute_result"
    }
   ],
   "source": [
    "features_to_remove"
   ]
  },
  {
   "cell_type": "code",
   "execution_count": 46,
   "metadata": {},
   "outputs": [],
   "source": [
    "X_train.drop(labels=features_to_remove, axis=1, inplace=True)\n",
    "X_test.drop(labels=features_to_remove, axis=1, inplace=True)"
   ]
  },
  {
   "cell_type": "code",
   "execution_count": 47,
   "metadata": {},
   "outputs": [
    {
     "data": {
      "text/plain": [
       "47"
      ]
     },
     "execution_count": 47,
     "metadata": {},
     "output_type": "execute_result"
    }
   ],
   "source": [
    "len(X_train.columns)"
   ]
  },
  {
   "cell_type": "markdown",
   "metadata": {},
   "source": [
    "### Removing features using univariate roc_auc"
   ]
  },
  {
   "cell_type": "code",
   "execution_count": 48,
   "metadata": {},
   "outputs": [],
   "source": [
    "# find important features using univariate roc-auc\n",
    "\n",
    "# loop to build a tree, make predictions and get the roc-auc\n",
    "# for each feature of the train set\n",
    "roc_values = []\n",
    "for feature in X_train.columns:\n",
    "    clf = DecisionTreeClassifier()\n",
    "    clf.fit(X_train[feature].fillna(0).to_frame(), y_train)\n",
    "    y_scored = clf.predict_proba(X_test[feature].fillna(0).to_frame())\n",
    "    roc_values.append(roc_auc_score(y_test, y_scored[:, 1]))"
   ]
  },
  {
   "cell_type": "code",
   "execution_count": 49,
   "metadata": {},
   "outputs": [
    {
     "data": {
      "text/plain": [
       "<matplotlib.axes._subplots.AxesSubplot at 0x1a1defa6d8>"
      ]
     },
     "execution_count": 49,
     "metadata": {},
     "output_type": "execute_result"
    },
    {
     "data": {
      "image/png": "[encoded data removed]",
      "text/plain": [
       "<Figure size 1440x576 with 1 Axes>"
      ]
     },
     "metadata": {
      "needs_background": "light"
     },
     "output_type": "display_data"
    }
   ],
   "source": [
    "# let's add the variable names and order it for clearer visualisation\n",
    "roc_values = pd.Series(roc_values)\n",
    "roc_values.index = X_train.columns\n",
    "roc_values.sort_values(ascending=False).plot.bar(figsize=(20, 8))"
   ]
  },
  {
   "cell_type": "code",
   "execution_count": 50,
   "metadata": {},
   "outputs": [
    {
     "data": {
      "text/plain": [
       "LOTO    0.49487\n",
       "dtype: float64"
      ]
     },
     "execution_count": 50,
     "metadata": {},
     "output_type": "execute_result"
    }
   ],
   "source": [
    "# by removing features with univariate roc_auc == 0.5\n",
    "selected_feat = roc_values[roc_values>0.5]\n",
    "len(selected_feat), X_train.shape[1]\n",
    "\n",
    "deleted_feat = roc_values[roc_values <= 0.5]\n",
    "deleted_feat"
   ]
  },
  {
   "cell_type": "code",
   "execution_count": 51,
   "metadata": {},
   "outputs": [],
   "source": [
    "X_train.drop(labels=deleted_feat.index, axis=1, inplace=True)\n",
    "X_test.drop(labels=deleted_feat.index, axis=1, inplace=True)"
   ]
  },
  {
   "cell_type": "code",
   "execution_count": 52,
   "metadata": {},
   "outputs": [
    {
     "data": {
      "text/plain": [
       "46"
      ]
     },
     "execution_count": 52,
     "metadata": {},
     "output_type": "execute_result"
    }
   ],
   "source": [
    "len(X_train.columns)"
   ]
  },
  {
   "cell_type": "code",
   "execution_count": null,
   "metadata": {},
   "outputs": [],
   "source": []
  },
  {
   "cell_type": "markdown",
   "metadata": {},
   "source": [
    "### Removing correlated features\n",
    "\n",
    "Correlation predictor variables provide redundant information\n",
    "\n",
    "Variables should be correlated with the target but uncorrelated among themselves"
   ]
  },
  {
   "cell_type": "code",
   "execution_count": 53,
   "metadata": {},
   "outputs": [],
   "source": [
    "# with the following function we can select highly correlated features\n",
    "def correlation(dataset, threshold):\n",
    "    col_corr = set()  # Set of all the names of correlated columns\n",
    "    corr_matrix = dataset.corr()\n",
    "    for i in range(len(corr_matrix.columns)):\n",
    "        for j in range(i):\n",
    "            if abs(corr_matrix.iloc[i, j]) > threshold: # we are interested in absolute coeff value\n",
    "                colname = corr_matrix.columns[i]  # getting the name of column\n",
    "                col_corr.add(colname)\n",
    "    return col_corr"
   ]
  },
  {
   "cell_type": "markdown",
   "metadata": {},
   "source": [
    "I chose to eliminate features under Pearson Correlation 0.8 mark"
   ]
  },
  {
   "cell_type": "code",
   "execution_count": 54,
   "metadata": {},
   "outputs": [
    {
     "data": {
      "text/plain": [
       "20"
      ]
     },
     "execution_count": 54,
     "metadata": {},
     "output_type": "execute_result"
    }
   ],
   "source": [
    "corr_features = correlation(X_train, 0.6)\n",
    "len(set(corr_features))"
   ]
  },
  {
   "cell_type": "code",
   "execution_count": 55,
   "metadata": {},
   "outputs": [
    {
     "name": "stdout",
     "output_type": "stream",
     "text": [
      "{'QTD_FAI_45_dias_antes', 'MINTEMP_C', 'Atos_inseguros_45_dias_antes', 'Piso_Molhado', 'Atos_inseguros_no_dia', 'Cidade_Clima', 'Atos_inseguros_30_dias_antes', 'EPI', 'incidentes_em_30_dias', 'Cidade', 'Atos_inseguros_15_dias_antes', 'incidentes_no_dia', 'incidentes_em_45_dias', 'abordagens_positivas_45_dias_antes', 'MAXTEMP_C', 'Transporte', 'total_paradas', 'ID_UNIDADE', 'incidentes_em_15_dias', 'Volume_prod'}\n"
     ]
    }
   ],
   "source": [
    "print(corr_features)"
   ]
  },
  {
   "cell_type": "code",
   "execution_count": 56,
   "metadata": {},
   "outputs": [],
   "source": [
    "X_train.drop(labels=corr_features, axis=1, inplace=True)\n",
    "X_test.drop(labels=corr_features, axis=1, inplace=True)"
   ]
  },
  {
   "cell_type": "code",
   "execution_count": 57,
   "metadata": {},
   "outputs": [
    {
     "data": {
      "text/plain": [
       "26"
      ]
     },
     "execution_count": 57,
     "metadata": {},
     "output_type": "execute_result"
    }
   ],
   "source": [
    "len(X_train.columns)"
   ]
  },
  {
   "cell_type": "markdown",
   "metadata": {},
   "source": [
    "Features Selected"
   ]
  },
  {
   "cell_type": "code",
   "execution_count": 60,
   "metadata": {},
   "outputs": [
    {
     "data": {
      "text/plain": [
       "Index(['Data', 'Mes', 'Unidade', 'QLP', 'Atencao_Postural', 'Celular',\n",
       "       'Eletricidade', 'SAM', 'abordagens_positivas',\n",
       "       'abordagens_positivas_15_dias_antes', 'Horas_Excedentes',\n",
       "       'Interjornadas', 'Parada_Automacao', 'Parada_Eletrica', 'Parada_HSMO',\n",
       "       'Parada_Instrumentacao', 'Parada_Logistica', 'Parada_Mecanica',\n",
       "       'Parada_Operacional', 'Parada_Processo', 'Parada_Programada',\n",
       "       'Parada_Qualidade', 'Parada_Suprimentos', 'QTD_FAI_30_dias_antes',\n",
       "       'AVGTEMP_C', 'TOTALPRECIP_MM'],\n",
       "      dtype='object')"
      ]
     },
     "execution_count": 60,
     "metadata": {},
     "output_type": "execute_result"
    }
   ],
   "source": [
    "X_train.columns"
   ]
  },
  {
   "cell_type": "code",
   "execution_count": null,
   "metadata": {},
   "outputs": [],
   "source": []
  },
  {
   "cell_type": "markdown",
   "metadata": {},
   "source": [
    "## Model Testing"
   ]
  },
  {
   "cell_type": "code",
   "execution_count": null,
   "metadata": {},
   "outputs": [],
   "source": []
  }
 ],
 "metadata": {
  "kernelspec": {
   "display_name": "Python 3",
   "language": "python",
   "name": "python3"
  },
  "language_info": {
   "codemirror_mode": {
    "name": "ipython",
    "version": 3
   },
   "file_extension": ".py",
   "mimetype": "text/x-python",
   "name": "python",
   "nbconvert_exporter": "python",
   "pygments_lexer": "ipython3",
   "version": "3.7.1"
  }
 },
 "nbformat": 4,
 "nbformat_minor": 2
}
